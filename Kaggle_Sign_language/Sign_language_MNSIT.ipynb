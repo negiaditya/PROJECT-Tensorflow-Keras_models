{
 "cells": [
  {
   "cell_type": "code",
   "execution_count": 27,
   "metadata": {
    "colab": {},
    "colab_type": "code",
    "id": "wYtuKeK0dImp"
   },
   "outputs": [],
   "source": [
    "# ATTENTION: Please do not alter any of the provided code in the exercise. Only add your own code where indicated\n",
    "# ATTENTION: Please do not add or remove any cells in the exercise. The grader will check specific cells based on the cell position.\n",
    "# ATTENTION: Please use the provided epoch values when training.\n",
    "\n",
    "import csv\n",
    "import numpy as np\n",
    "import tensorflow as tf\n",
    "from tensorflow.keras.preprocessing.image import ImageDataGenerator\n",
    "from os import getcwd"
   ]
  },
  {
   "cell_type": "code",
   "execution_count": 28,
   "metadata": {
    "colab": {},
    "colab_type": "code",
    "id": "4kxw-_rmcnVu"
   },
   "outputs": [
    {
     "name": "stdout",
     "output_type": "stream",
     "text": [
      "(27455, 28, 28)\n",
      "(27455,)\n",
      "(7172, 28, 28)\n",
      "(7172,)\n"
     ]
    }
   ],
   "source": [
    "def get_data(filename):\n",
    "  # You will need to write code that will read the file passed\n",
    "  # into this function. The first line contains the column headers\n",
    "  # so you should ignore it\n",
    "  # Each successive line contians 785 comma separated values between 0 and 255\n",
    "  # The first value is the label\n",
    "  # The rest are the pixel values for that picture\n",
    "  # The function will return 2 np.array types. One with all the labels\n",
    "  # One with all the images\n",
    "  #\n",
    "  # Tips: \n",
    "  # If you read a full line (as 'row') then row[0] has the label\n",
    "  # and row[1:785] has the 784 pixel values\n",
    "  # Take a look at np.array_split to turn the 784 pixels into 28x28\n",
    "  # You are reading in strings, but need the values to be floats\n",
    "  # Check out np.array().astype for a conversion\n",
    "    with open(filename) as training_file:\n",
    "        reader = csv.reader(training_file, delimiter=',')    \n",
    "        imgs = []\n",
    "        labels = []\n",
    "        next(reader,None)\n",
    "        for row in reader:\n",
    "            label=row[0]\n",
    "            pixelz=row[1:]\n",
    "            img = np.array(pixelz).reshape((28, 28))\n",
    "            imgs.append(img)\n",
    "            labels.append(label)\n",
    "        images=np.array(imgs).astype(float)\n",
    "        labels=np.array(labels).astype(float)\n",
    "    return images, labels\n",
    "\n",
    "path_sign_mnist_train = f\"{getcwd()}/../tmp2/sign_mnist_train.csv\"\n",
    "path_sign_mnist_test = f\"{getcwd()}/../tmp2/sign_mnist_test.csv\"\n",
    "training_images, training_labels = get_data(path_sign_mnist_train)\n",
    "testing_images, testing_labels = get_data(path_sign_mnist_test)\n",
    "\n",
    "# Keep these\n",
    "print(training_images.shape)\n",
    "print(training_labels.shape)\n",
    "print(testing_images.shape)\n",
    "print(testing_labels.shape)\n",
    "\n",
    "# Their output should be:\n",
    "# (27455, 28, 28)\n",
    "# (27455,)\n",
    "# (7172, 28, 28)\n",
    "# (7172,)"
   ]
  },
  {
   "cell_type": "code",
   "execution_count": 29,
   "metadata": {
    "colab": {},
    "colab_type": "code",
    "id": "awoqRpyZdQkD"
   },
   "outputs": [
    {
     "name": "stdout",
     "output_type": "stream",
     "text": [
      "(27455, 28, 28, 1)\n",
      "(7172, 28, 28, 1)\n"
     ]
    }
   ],
   "source": [
    "# In this section you will have to add another dimension to the data\n",
    "# So, for example, if your array is (10000, 28, 28)\n",
    "# You will need to make it (10000, 28, 28, 1)\n",
    "# Hint: np.expand_dims\n",
    "\n",
    "training_images =np.expand_dims(training_images,axis=3) # Your Code Here\n",
    "testing_images = np.expand_dims(testing_images,axis=3)# Your Code Here\n",
    "\n",
    "# Create an ImageDataGenerator and do Image Augmentation\n",
    "train_datagen = ImageDataGenerator(\n",
    "    rescale=1. / 255,\n",
    "    rotation_range=40,\n",
    "    width_shift_range=0.2,\n",
    "    height_shift_range=0.2,\n",
    "    shear_range=0.2,\n",
    "    zoom_range=0.2,\n",
    "    horizontal_flip=True,\n",
    "    fill_mode='nearest'\n",
    "    )\n",
    "\n",
    "validation_datagen = ImageDataGenerator(\n",
    "    rescale=1 / 255)\n",
    "\n",
    "    \n",
    "# Keep These\n",
    "print(training_images.shape)\n",
    "print(testing_images.shape)\n",
    "    \n",
    "# Their output should be:\n",
    "# (27455, 28, 28, 1)\n",
    "# (7172, 28, 28, 1)"
   ]
  },
  {
   "cell_type": "code",
   "execution_count": 33,
   "metadata": {
    "colab": {},
    "colab_type": "code",
    "id": "Rmb7S32cgRqS"
   },
   "outputs": [
    {
     "name": "stdout",
     "output_type": "stream",
     "text": [
      "Epoch 1/50\n",
      "429/429 [==============================] - 48s 112ms/step - loss: 2.8727 - accuracy: 0.1387 - val_loss: 2.2505 - val_accuracy: 0.2939\n",
      "Epoch 2/50\n",
      "429/429 [==============================] - 47s 110ms/step - loss: 2.3014 - accuracy: 0.2841 - val_loss: 1.6529 - val_accuracy: 0.4767\n",
      "Epoch 3/50\n",
      "429/429 [==============================] - 47s 110ms/step - loss: 1.8875 - accuracy: 0.4034 - val_loss: 1.1975 - val_accuracy: 0.6062\n",
      "Epoch 4/50\n",
      "429/429 [==============================] - 44s 103ms/step - loss: 1.5981 - accuracy: 0.4830 - val_loss: 1.2124 - val_accuracy: 0.5661\n",
      "Epoch 5/50\n",
      "429/429 [==============================] - 43s 100ms/step - loss: 1.4076 - accuracy: 0.5441 - val_loss: 1.0960 - val_accuracy: 0.6072\n",
      "Epoch 6/50\n",
      "429/429 [==============================] - 44s 101ms/step - loss: 1.2322 - accuracy: 0.5983 - val_loss: 0.8378 - val_accuracy: 0.6997\n",
      "Epoch 7/50\n",
      "429/429 [==============================] - 45s 104ms/step - loss: 1.0967 - accuracy: 0.6413 - val_loss: 0.6240 - val_accuracy: 0.7797\n",
      "Epoch 8/50\n",
      "429/429 [==============================] - 46s 106ms/step - loss: 1.0056 - accuracy: 0.6693 - val_loss: 0.6608 - val_accuracy: 0.7411\n",
      "Epoch 9/50\n",
      "429/429 [==============================] - 45s 105ms/step - loss: 0.9131 - accuracy: 0.7004 - val_loss: 0.5283 - val_accuracy: 0.8031\n",
      "Epoch 10/50\n",
      "429/429 [==============================] - 42s 98ms/step - loss: 0.8354 - accuracy: 0.7261 - val_loss: 0.4096 - val_accuracy: 0.8551\n",
      "Epoch 11/50\n",
      "429/429 [==============================] - 43s 99ms/step - loss: 0.7762 - accuracy: 0.7440 - val_loss: 0.4361 - val_accuracy: 0.8473\n",
      "Epoch 12/50\n",
      "429/429 [==============================] - 43s 100ms/step - loss: 0.7261 - accuracy: 0.7555 - val_loss: 0.3749 - val_accuracy: 0.8773\n",
      "Epoch 13/50\n",
      "429/429 [==============================] - 44s 103ms/step - loss: 0.6741 - accuracy: 0.7772 - val_loss: 0.3364 - val_accuracy: 0.8830\n",
      "Epoch 14/50\n",
      "429/429 [==============================] - 44s 103ms/step - loss: 0.6503 - accuracy: 0.7846 - val_loss: 0.3655 - val_accuracy: 0.8691\n",
      "Epoch 15/50\n",
      "429/429 [==============================] - 44s 103ms/step - loss: 0.5888 - accuracy: 0.8052 - val_loss: 0.2471 - val_accuracy: 0.9155\n",
      "Epoch 16/50\n",
      "429/429 [==============================] - 44s 103ms/step - loss: 0.5749 - accuracy: 0.8090 - val_loss: 0.2431 - val_accuracy: 0.9085\n",
      "Epoch 17/50\n",
      "429/429 [==============================] - 44s 102ms/step - loss: 0.5437 - accuracy: 0.8188 - val_loss: 0.2279 - val_accuracy: 0.9222\n",
      "Epoch 18/50\n",
      "429/429 [==============================] - 43s 100ms/step - loss: 0.5141 - accuracy: 0.8304 - val_loss: 0.2075 - val_accuracy: 0.9233\n",
      "Epoch 19/50\n",
      "429/429 [==============================] - 45s 104ms/step - loss: 0.5011 - accuracy: 0.8342 - val_loss: 0.2413 - val_accuracy: 0.9189\n",
      "Epoch 20/50\n",
      "429/429 [==============================] - 45s 106ms/step - loss: 0.4744 - accuracy: 0.8426 - val_loss: 0.2260 - val_accuracy: 0.9236\n",
      "Epoch 21/50\n",
      "429/429 [==============================] - 45s 104ms/step - loss: 0.4594 - accuracy: 0.8464 - val_loss: 0.1674 - val_accuracy: 0.9442\n",
      "Epoch 22/50\n",
      "429/429 [==============================] - 46s 108ms/step - loss: 0.4348 - accuracy: 0.8551 - val_loss: 0.1976 - val_accuracy: 0.9301\n",
      "Epoch 23/50\n",
      "429/429 [==============================] - 45s 105ms/step - loss: 0.4185 - accuracy: 0.8622 - val_loss: 0.1898 - val_accuracy: 0.9286\n",
      "Epoch 24/50\n",
      "429/429 [==============================] - 44s 103ms/step - loss: 0.4163 - accuracy: 0.8610 - val_loss: 0.1863 - val_accuracy: 0.9345\n",
      "Epoch 25/50\n",
      "429/429 [==============================] - 44s 103ms/step - loss: 0.3978 - accuracy: 0.8677 - val_loss: 0.2328 - val_accuracy: 0.9116\n",
      "Epoch 26/50\n",
      "429/429 [==============================] - 45s 105ms/step - loss: 0.3887 - accuracy: 0.8708 - val_loss: 0.1597 - val_accuracy: 0.9414\n",
      "Epoch 27/50\n",
      "429/429 [==============================] - 44s 103ms/step - loss: 0.3803 - accuracy: 0.8748 - val_loss: 0.2079 - val_accuracy: 0.9246\n",
      "Epoch 28/50\n",
      "429/429 [==============================] - 44s 102ms/step - loss: 0.3652 - accuracy: 0.8791 - val_loss: 0.1606 - val_accuracy: 0.9455\n",
      "Epoch 29/50\n",
      "429/429 [==============================] - 45s 106ms/step - loss: 0.3566 - accuracy: 0.8809 - val_loss: 0.1817 - val_accuracy: 0.9364\n",
      "Epoch 30/50\n",
      "429/429 [==============================] - 45s 106ms/step - loss: 0.3502 - accuracy: 0.8854 - val_loss: 0.1370 - val_accuracy: 0.9557\n",
      "Epoch 31/50\n",
      "429/429 [==============================] - 45s 105ms/step - loss: 0.3306 - accuracy: 0.8876 - val_loss: 0.1154 - val_accuracy: 0.9622\n",
      "Epoch 32/50\n",
      "429/429 [==============================] - 44s 102ms/step - loss: 0.3347 - accuracy: 0.8880 - val_loss: 0.1488 - val_accuracy: 0.9444\n",
      "Epoch 33/50\n",
      "429/429 [==============================] - 44s 103ms/step - loss: 0.3252 - accuracy: 0.8914 - val_loss: 0.1129 - val_accuracy: 0.9601\n",
      "Epoch 34/50\n",
      "429/429 [==============================] - 44s 102ms/step - loss: 0.3104 - accuracy: 0.8949 - val_loss: 0.0954 - val_accuracy: 0.9699\n",
      "Epoch 35/50\n",
      "429/429 [==============================] - 46s 106ms/step - loss: 0.3210 - accuracy: 0.8945 - val_loss: 0.1219 - val_accuracy: 0.9591\n",
      "Epoch 36/50\n",
      "429/429 [==============================] - 47s 109ms/step - loss: 0.3052 - accuracy: 0.8993 - val_loss: 0.0832 - val_accuracy: 0.9683\n",
      "Epoch 37/50\n",
      "429/429 [==============================] - 46s 107ms/step - loss: 0.2873 - accuracy: 0.9062 - val_loss: 0.1319 - val_accuracy: 0.9516\n",
      "Epoch 38/50\n",
      "429/429 [==============================] - 46s 108ms/step - loss: 0.2932 - accuracy: 0.9025 - val_loss: 0.1012 - val_accuracy: 0.9615\n",
      "Epoch 39/50\n",
      "429/429 [==============================] - 46s 108ms/step - loss: 0.2828 - accuracy: 0.9056 - val_loss: 0.0993 - val_accuracy: 0.9651\n",
      "Epoch 40/50\n",
      "429/429 [==============================] - 47s 110ms/step - loss: 0.2776 - accuracy: 0.9086 - val_loss: 0.1203 - val_accuracy: 0.9526\n",
      "Epoch 41/50\n",
      "429/429 [==============================] - 43s 100ms/step - loss: 0.2665 - accuracy: 0.9122 - val_loss: 0.0968 - val_accuracy: 0.9639\n",
      "Epoch 42/50\n",
      "429/429 [==============================] - 43s 100ms/step - loss: 0.2735 - accuracy: 0.9104 - val_loss: 0.1514 - val_accuracy: 0.9508\n",
      "Epoch 43/50\n",
      "429/429 [==============================] - 43s 101ms/step - loss: 0.2627 - accuracy: 0.9107 - val_loss: 0.1178 - val_accuracy: 0.9637\n",
      "Epoch 44/50\n",
      "429/429 [==============================] - 43s 99ms/step - loss: 0.2518 - accuracy: 0.9156 - val_loss: 0.1426 - val_accuracy: 0.9571\n",
      "Epoch 45/50\n",
      "429/429 [==============================] - 43s 100ms/step - loss: 0.2655 - accuracy: 0.9117 - val_loss: 0.1281 - val_accuracy: 0.9566\n",
      "Epoch 46/50\n",
      "429/429 [==============================] - 43s 99ms/step - loss: 0.2571 - accuracy: 0.9158 - val_loss: 0.1859 - val_accuracy: 0.9459\n",
      "Epoch 47/50\n",
      "429/429 [==============================] - 42s 98ms/step - loss: 0.2489 - accuracy: 0.9197 - val_loss: 0.1342 - val_accuracy: 0.9527\n",
      "Epoch 48/50\n",
      "429/429 [==============================] - 43s 100ms/step - loss: 0.2462 - accuracy: 0.9174 - val_loss: 0.0885 - val_accuracy: 0.9732\n",
      "Epoch 49/50\n",
      "429/429 [==============================] - 45s 104ms/step - loss: 0.2306 - accuracy: 0.9233 - val_loss: 0.0943 - val_accuracy: 0.9660\n",
      "Epoch 50/50\n",
      "429/429 [==============================] - 42s 99ms/step - loss: 0.2282 - accuracy: 0.9242 - val_loss: 0.0945 - val_accuracy: 0.9650\n"
     ]
    },
    {
     "data": {
      "text/plain": [
       "[109.01044439006237, 0.7992192]"
      ]
     },
     "execution_count": 33,
     "metadata": {},
     "output_type": "execute_result"
    }
   ],
   "source": [
    "# Define the model\n",
    "# Use no more than 2 Conv2D and 2 MaxPooling2D\n",
    "model = tf.keras.models.Sequential([\n",
    "    tf.keras.layers.Conv2D(32, (3,3), activation='relu', input_shape=(28, 28, 1)),\n",
    "    tf.keras.layers.MaxPooling2D(2,2),\n",
    "    tf.keras.layers.Conv2D(32, (3,3), activation='relu'),\n",
    "    tf.keras.layers.MaxPooling2D(2,2),\n",
    "    tf.keras.layers.Flatten(),\n",
    "    tf.keras.layers.Dense(512, activation='relu'),\n",
    "    tf.keras.layers.Dense(26, activation='softmax')\n",
    "    ])\n",
    "\n",
    "# Compile Model. \n",
    "model.compile(optimizer='adam',\n",
    "    loss='sparse_categorical_crossentropy',\n",
    "    metrics=['accuracy'])\n",
    "train_gen = train_datagen.flow(\n",
    "    training_images,\n",
    "    training_labels,\n",
    "    batch_size=64\n",
    ")\n",
    "\n",
    "val_gen = validation_datagen.flow(\n",
    "    testing_images,\n",
    "    testing_labels,\n",
    "    batch_size=64\n",
    ")\n",
    "\n",
    "# Train the Model\n",
    "history = model.fit_generator(train_gen,\n",
    "    epochs=50,\n",
    "    validation_data=val_gen)\n",
    "\n",
    "model.evaluate(testing_images, testing_labels, verbose=0)"
   ]
  },
  {
   "cell_type": "code",
   "execution_count": 32,
   "metadata": {
    "colab": {},
    "colab_type": "code",
    "id": "_Q3Zpr46dsij"
   },
   "outputs": [
    {
     "data": {
      "image/png": "[encoded data removed]",
      "text/plain": [
       "<Figure size 432x288 with 1 Axes>"
      ]
     },
     "metadata": {
      "needs_background": "light"
     },
     "output_type": "display_data"
    },
    {
     "data": {
      "image/png": "[encoded data removed]",
      "text/plain": [
       "<Figure size 432x288 with 1 Axes>"
      ]
     },
     "metadata": {
      "needs_background": "light"
     },
     "output_type": "display_data"
    }
   ],
   "source": [
    "# Plot the chart for accuracy and loss on both training and validation\n",
    "%matplotlib inline\n",
    "import matplotlib.pyplot as plt\n",
    "acc = history.history['accuracy']\n",
    "val_acc = history.history['val_accuracy']\n",
    "loss = history.history['loss']\n",
    "val_loss = history.history['val_loss']\n",
    "\n",
    "epochs = range(len(acc))\n",
    "\n",
    "plt.plot(epochs, acc, 'r', label='Training accuracy')\n",
    "plt.plot(epochs, val_acc, 'b', label='Validation accuracy')\n",
    "plt.title('Training and validation accuracy')\n",
    "plt.legend()\n",
    "plt.figure()\n",
    "\n",
    "plt.plot(epochs, loss, 'r', label='Training Loss')\n",
    "plt.plot(epochs, val_loss, 'b', label='Validation Loss')\n",
    "plt.title('Training and validation loss')\n",
    "plt.legend()\n",
    "\n",
    "plt.show()"
   ]
  },
  {
   "cell_type": "markdown",
   "metadata": {},
   "source": [
    "# Submission Instructions"
   ]
  },
  {
   "cell_type": "code",
   "execution_count": null,
   "metadata": {},
   "outputs": [],
   "source": [
    "# Now click the 'Submit Assignment' button above."
   ]
  },
  {
   "cell_type": "markdown",
   "metadata": {},
   "source": [
    "# When you're done or would like to take a break, please run the two cells below to save your work and close the Notebook. This will free up resources for your fellow learners. "
   ]
  },
  {
   "cell_type": "code",
   "execution_count": null,
   "metadata": {},
   "outputs": [],
   "source": [
    "%%javascript\n",
    "<!-- Save the notebook -->\n",
    "IPython.notebook.save_checkpoint();"
   ]
  },
  {
   "cell_type": "code",
   "execution_count": null,
   "metadata": {},
   "outputs": [],
   "source": [
    "%%javascript\n",
    "IPython.notebook.session.delete();\n",
    "window.onbeforeunload = null\n",
    "setTimeout(function() { window.close(); }, 1000);"
   ]
  }
 ],
 "metadata": {
  "colab": {
   "name": "Exercise 8 - Question.ipynb",
   "provenance": []
  },
  "coursera": {
   "course_slug": "convolutional-neural-networks-tensorflow",
   "graded_item_id": "8mIh8",
   "launcher_item_id": "gg95t"
  },
  "kernelspec": {
   "display_name": "Python 3",
   "language": "python",
   "name": "python3"
  },
  "language_info": {
   "codemirror_mode": {
    "name": "ipython",
    "version": 3
   },
   "file_extension": ".py",
   "mimetype": "text/x-python",
   "name": "python",
   "nbconvert_exporter": "python",
   "pygments_lexer": "ipython3",
   "version": "3.6.8"
  }
 },
 "nbformat": 4,
 "nbformat_minor": 1
}
